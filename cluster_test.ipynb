{
 "cells": [
  {
   "cell_type": "code",
   "execution_count": 1,
   "metadata": {},
   "outputs": [],
   "source": [
    "import time\n",
    "import matplotlib.pyplot as plt\n",
    "import numpy as np\n",
    "from sklearn.cluster import DBSCAN\n",
    "\n",
    "from Cluster import Cluster\n",
    "from IncDBSCAN import IncrementalDBSCAN\n",
    "from DatasetPattern import DatasetPattern\n",
    "from utils import initDataset\n",
    "from sklearn.datasets import make_blobs\n",
    "from sklearn.preprocessing import StandardScaler"
   ]
  },
  {
   "cell_type": "code",
   "execution_count": 2,
   "metadata": {},
   "outputs": [],
   "source": [
    "eps = 3\n",
    "minpts = 2\n",
    "start_time = time.time()\n",
    "data = np.array([[1,2],[2,2],[2,3],[8,7],[8,8],[25,80]])"
   ]
  },
  {
   "cell_type": "code",
   "execution_count": 3,
   "metadata": {},
   "outputs": [
    {
     "data": {
      "image/png": "[encoded data removed]",
      "text/plain": [
       "<Figure size 432x288 with 1 Axes>"
      ]
     },
     "metadata": {
      "needs_background": "light"
     },
     "output_type": "display_data"
    }
   ],
   "source": [
    "%matplotlib inline\n",
    "plt.scatter(data[:,0],data[:,1])\n",
    "plt.show()"
   ]
  },
  {
   "cell_type": "code",
   "execution_count": 4,
   "metadata": {},
   "outputs": [
    {
     "name": "stdout",
     "output_type": "stream",
     "text": [
      "[ 0  0  0  1  1 -1]\n"
     ]
    }
   ],
   "source": [
    "dbscan = DBSCAN(eps=eps,min_samples=minpts).fit(data)\n",
    "print(dbscan.labels_)"
   ]
  },
  {
   "cell_type": "code",
   "execution_count": 5,
   "metadata": {},
   "outputs": [
    {
     "name": "stdout",
     "output_type": "stream",
     "text": [
      "Incremental DBSCAN Results\n",
      "==========================\n",
      "\n",
      "Dataset has 6 Points\n",
      "Cluster 1 has 3 Points\n",
      "\n",
      "Runtime = 0.0022430419921875[sec]\n",
      "EPS = 3\n",
      "Minpts = 2\n"
     ]
    }
   ],
   "source": [
    "data = initDataset(data)\n",
    "start_time = time.time()\n",
    "incDBSCAN = IncrementalDBSCAN(data,minpts,eps)\n",
    "incDBSCAN.run()\n",
    "elapsed_time = time.time() - start_time\n",
    "clustersList = incDBSCAN.getClustersList()\n",
    "print(\"Incremental DBSCAN Results\")\n",
    "print(\"==========================\")\n",
    "print(\"\")\n",
    "incDBSCAN.printClustersInformation()\n",
    "print(\"\")\n",
    "print(\"Runtime = {}[sec]\".format(elapsed_time))\n",
    "print(\"EPS = {}\".format(eps))\n",
    "print(\"Minpts = {}\".format(minpts))"
   ]
  },
  {
   "cell_type": "code",
   "execution_count": 6,
   "metadata": {},
   "outputs": [
    {
     "name": "stdout",
     "output_type": "stream",
     "text": [
      "[0, 0, 0, -1, -1, -1]\n"
     ]
    }
   ],
   "source": [
    "labels = incDBSCAN.getLabels()\n",
    "print(labels)"
   ]
  },
  {
   "cell_type": "code",
   "execution_count": null,
   "metadata": {},
   "outputs": [],
   "source": []
  },
  {
   "cell_type": "code",
   "execution_count": null,
   "metadata": {},
   "outputs": [],
   "source": []
  },
  {
   "cell_type": "code",
   "execution_count": null,
   "metadata": {},
   "outputs": [],
   "source": []
  }
 ],
 "metadata": {
  "kernelspec": {
   "display_name": "Python 3",
   "language": "python",
   "name": "python3"
  },
  "language_info": {
   "codemirror_mode": {
    "name": "ipython",
    "version": 3
   },
   "file_extension": ".py",
   "mimetype": "text/x-python",
   "name": "python",
   "nbconvert_exporter": "python",
   "pygments_lexer": "ipython3",
   "version": "3.7.6"
  }
 },
 "nbformat": 4,
 "nbformat_minor": 5
}
