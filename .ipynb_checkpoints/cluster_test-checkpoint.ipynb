{
 "cells": [
  {
   "cell_type": "code",
   "execution_count": null,
   "id": "833e0dc7-9a86-44ab-979b-53e994cf7820",
   "metadata": {},
   "outputs": [],
   "source": [
    "import time\n",
    "\n",
    "from Cluster import Cluster\n",
    "from IncDBSCAN import IncrementalDBSCAN\n",
    "from DatasetPattern import DatasetPattern"
   ]
  },
  {
   "cell_type": "code",
   "execution_count": null,
   "id": "f6ceca83-3a87-4a7e-8622-bf75143e4ba6",
   "metadata": {},
   "outputs": [],
   "source": [
    "eps = 5\n",
    "minpts = 18\n",
    "start_time = time.time()\n",
    "\n",
    "data = [[1,2],[2,2],[2,3],[8,7],[8,8],[25,80]]"
   ]
  },
  {
   "cell_type": "code",
   "execution_count": null,
   "id": "0b47fd7f-c2b9-4f62-b4dc-142af74b02db",
   "metadata": {},
   "outputs": [],
   "source": [
    "incDBSCAN = IncrementalDBSCAN(dataset,minpts,eps)\n",
    "incDBSCAN.run()\n",
    "elapsed_time = time.time() - start_time\n",
    "clustersList = incDBSCAN.getClustersList()\n",
    "print(\"Incremental DBSCAN Results\")\n",
    "print(\"==========================\")\n",
    "print(\"\")\n",
    "incDBSCAN.printClustersInformation()\n",
    "print(\"\")\n",
    "print(\"Runtime = {}[sec]\".format(elapsed_time))\n",
    "print(\"EPS = {}\".format(eps))\n",
    "print(\"Minpts = {}\".format(minpts))"
   ]
  }
 ],
 "metadata": {
  "kernelspec": {
   "display_name": "Python 3 (ipykernel)",
   "language": "python",
   "name": "python3"
  },
  "language_info": {
   "codemirror_mode": {
    "name": "ipython",
    "version": 3
   },
   "file_extension": ".py",
   "mimetype": "text/x-python",
   "name": "python",
   "nbconvert_exporter": "python",
   "pygments_lexer": "ipython3",
   "version": "3.7.0"
  }
 },
 "nbformat": 4,
 "nbformat_minor": 5
}
